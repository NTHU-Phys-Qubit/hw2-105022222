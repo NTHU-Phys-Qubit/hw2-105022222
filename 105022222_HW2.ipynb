{
  "nbformat": 4,
  "nbformat_minor": 0,
  "metadata": {
    "colab": {
      "name": "Untitled3.ipynb",
      "provenance": []
    },
    "kernelspec": {
      "name": "python3",
      "display_name": "Python 3"
    }
  },
  "cells": [
    {
      "cell_type": "code",
      "metadata": {
        "id": "68yPdf7Fh_lr",
        "colab_type": "code",
        "colab": {}
      },
      "source": [
        "import numpy as np\n",
        "import matplotlib.pyplot as plt\n",
        "import math"
      ],
      "execution_count": 70,
      "outputs": []
    },
    {
      "cell_type": "code",
      "metadata": {
        "id": "TDneJkVwhLX2",
        "colab_type": "code",
        "colab": {}
      },
      "source": [
        "## Parameter\n",
        "J = 1\n",
        "kB = 1\n",
        "# beta = (1/(kB*T))"
      ],
      "execution_count": 3,
      "outputs": []
    },
    {
      "cell_type": "code",
      "metadata": {
        "id": "sjbVYHvUhSoS",
        "colab_type": "code",
        "colab": {
          "base_uri": "https://localhost:8080/",
          "height": 68
        },
        "outputId": "45ad36ba-eca3-4ada-94f6-f0a27ff0fdb9"
      },
      "source": [
        "def transfer_matrix(T, B):\n",
        "    T = np.array([[np.exp((1/(kB*T)) * J + (1/(kB*T)) * B), np.exp(-(1/(kB*T)) * J)],\n",
        "                      [np.exp(-(1/(kB*T)) * J), np.exp((1/(kB*T)) * J - (1/(kB*T)) * B)]]\n",
        "                    )\n",
        "    return T\n",
        "\n",
        "M = transfer_matrix(10, 5)\n",
        "print(\"Transfer matrix is :\")\n",
        "print(M)"
      ],
      "execution_count": 71,
      "outputs": [
        {
          "output_type": "stream",
          "text": [
            "Transfer matrix is :\n",
            "[[1.8221188  0.90483742]\n",
            " [0.90483742 0.67032005]]\n"
          ],
          "name": "stdout"
        }
      ]
    },
    {
      "cell_type": "code",
      "metadata": {
        "id": "Rz71V38bim5i",
        "colab_type": "code",
        "colab": {
          "base_uri": "https://localhost:8080/",
          "height": 68
        },
        "outputId": "97ce106a-a466-4b57-a472-d1d962a95aa4"
      },
      "source": [
        "def ev(T, B):\n",
        "    v1 = np.exp((1/(kB*T)) * J) * (np.cosh((1/(kB*T)) * B) - np.sqrt((np.sinh((1/(kB*T)) * B)**2) + np.exp(-4 * (1/(kB*T)) * J)))\n",
        "    v2 = np.exp((1/(kB*T)) * J) * (np.cosh((1/(kB*T)) * B) + np.sqrt((np.sinh((1/(kB*T)) * B)**2) + np.exp(-4 * (1/(kB*T)) * J)))\n",
        "    return np.array([v1,v2])\n",
        "\n",
        "def ev_exact(T, B):\n",
        "    return np.linalg.eigvalsh(transfer_matrix(T, B))\n",
        "\n",
        "def ev_diff(T, B):\n",
        "    evdiff = ev(T, B) - ev_exact(T, B)\n",
        "    return evdiff\n",
        "\n",
        "print(\"Eigenvalue of the transfer matrix are\",ev(10, 5))\n",
        "print(\"Eigenvalue are\",ev_exact(10, 5))\n",
        "print(\"The difference are\",ev_diff(10, 5))\n"
      ],
      "execution_count": 79,
      "outputs": [
        {
          "output_type": "stream",
          "text": [
            "Eigenvalue of the transfer matrix are [0.17365668 2.31878217]\n",
            "Eigenvalue are [0.17365668 2.31878217]\n",
            "The difference are [-8.32667268e-17  4.44089210e-16]\n"
          ],
          "name": "stdout"
        }
      ]
    },
    {
      "cell_type": "code",
      "metadata": {
        "id": "lM3GHeZjkbdf",
        "colab_type": "code",
        "colab": {
          "base_uri": "https://localhost:8080/",
          "height": 170
        },
        "outputId": "9df8af24-fc76-46f9-d441-68e18cd1adc1"
      },
      "source": [
        "def par(T, B, N):\n",
        "    p = np.exp((1/(kB*T)) * J) * (np.cosh((1/(kB*T)) * B) + np.sqrt((np.sinh((1/(kB*T)) * B)**2) + np.exp(-4 * (1/(kB*T)) * J)))\n",
        "    return p**N\n",
        "\n",
        "def par_exact(T, B, N):\n",
        "    a = transfer_matrix(T, B)\n",
        "    b = np.copy(a)\n",
        "    for i in range(N - 1):\n",
        "        a = np.dot(a, b)\n",
        "    return np.trace(a)\n",
        "\n",
        "def par_diff_radio(T, B, N):\n",
        "    diff = (par(T, B, N) - par_exact(T, B, N)) / par_exact(T, B, N)\n",
        "    return diff\n",
        "\n",
        "print(\"T = 10, B = 5, N = 10\")\n",
        "print(\"Calculate :\", par(10, 5, 10))\n",
        "print(\"Exact :\", par_exact(10, 5, 10))\n",
        "print(\"Difference ratio is\", par_diff_radio(10, 5, 10))\n",
        "print()\n",
        "print(\"T = 10, B = 5, N = 100\")\n",
        "print(\"Calculate :\", par(10, 5, 100))\n",
        "print(\"Exact :\", par_exact(10, 5, 100))\n",
        "print(\"Difference ratio is\", par_diff_radio(10, 5, 100))"
      ],
      "execution_count": 82,
      "outputs": [
        {
          "output_type": "stream",
          "text": [
            "T = 10, B = 5, N = 10\n",
            "Calculate : 4493.652889675443\n",
            "Exact : 4493.652889700372\n",
            "Difference ratio is -5.547658082967374e-12\n",
            "\n",
            "T = 10, B = 5, N = 100\n",
            "Calculate : 3.35733922759931e+36\n",
            "Exact : 3.357339227599228e+36\n",
            "Difference ratio is 2.443932890824778e-14\n"
          ],
          "name": "stdout"
        }
      ]
    },
    {
      "cell_type": "code",
      "metadata": {
        "id": "bPrvWd_vtr3p",
        "colab_type": "code",
        "colab": {
          "base_uri": "https://localhost:8080/",
          "height": 282
        },
        "outputId": "9cbf32ce-efdf-4a4b-8e0e-bb1ed916f29b"
      },
      "source": [
        "def S0Sj(T, B, N):\n",
        "    S = np.array([0.0] * (N + 1))\n",
        "    for i in range(N + 1):\n",
        "        S[i] = np.tanh(B/T)**i\n",
        "    return S\n",
        "\n",
        "ss = S0Sj(10, 5, 10)\n",
        "plt.plot(ss, '.')"
      ],
      "execution_count": 98,
      "outputs": [
        {
          "output_type": "execute_result",
          "data": {
            "text/plain": [
              "[<matplotlib.lines.Line2D at 0x7feda0a4ca90>]"
            ]
          },
          "metadata": {
            "tags": []
          },
          "execution_count": 98
        },
        {
          "output_type": "display_data",
          "data": {
            "image/png": "[encoded data removed]",
            "text/plain": [
              "<Figure size 432x288 with 1 Axes>"
            ]
          },
          "metadata": {
            "tags": [],
            "needs_background": "light"
          }
        }
      ]
    },
    {
      "cell_type": "code",
      "metadata": {
        "id": "CqYYNAgOxmFa",
        "colab_type": "code",
        "colab": {}
      },
      "source": [
        "def S0Sj_plot(T, B, N):\n",
        "    k = int(N/2)\n",
        "    ssp = np.array([0.0] * k)\n",
        "    for j in range(k):\n",
        "        ssp[j] = np.tanh(B/T)**j\n",
        "    return ssp "
      ],
      "execution_count": 120,
      "outputs": []
    },
    {
      "cell_type": "code",
      "metadata": {
        "id": "7nFAMopH1oB6",
        "colab_type": "code",
        "colab": {
          "base_uri": "https://localhost:8080/",
          "height": 298
        },
        "outputId": "e2de4d78-41a0-41a3-f492-030e4063d2b3"
      },
      "source": [
        "s_plot = S0Sj_plot(1, 2, 1000)\n",
        "plt.title(\"T = 5, N = 1000\")\n",
        "plt.plot(s_plot, '.')"
      ],
      "execution_count": 132,
      "outputs": [
        {
          "output_type": "execute_result",
          "data": {
            "text/plain": [
              "[<matplotlib.lines.Line2D at 0x7fed9fe8ba58>]"
            ]
          },
          "metadata": {
            "tags": []
          },
          "execution_count": 132
        },
        {
          "output_type": "display_data",
          "data": {
            "image/png": "[encoded data removed]",
            "text/plain": [
              "<Figure size 432x288 with 1 Axes>"
            ]
          },
          "metadata": {
            "tags": [],
            "needs_background": "light"
          }
        }
      ]
    },
    {
      "cell_type": "code",
      "metadata": {
        "id": "EXIbYzkp1qfF",
        "colab_type": "code",
        "colab": {
          "base_uri": "https://localhost:8080/",
          "height": 298
        },
        "outputId": "d1f1c644-b37e-4fab-9d4c-4d28adccf89d"
      },
      "source": [
        "s_plot = S0Sj_plot(2, 2, 1000)\n",
        "plt.title(\"T = 2, N = 1000\")\n",
        "plt.plot(s_plot, '.')"
      ],
      "execution_count": 128,
      "outputs": [
        {
          "output_type": "execute_result",
          "data": {
            "text/plain": [
              "[<matplotlib.lines.Line2D at 0x7feda0070358>]"
            ]
          },
          "metadata": {
            "tags": []
          },
          "execution_count": 128
        },
        {
          "output_type": "display_data",
          "data": {
            "image/png": "[encoded data removed]",
            "text/plain": [
              "<Figure size 432x288 with 1 Axes>"
            ]
          },
          "metadata": {
            "tags": [],
            "needs_background": "light"
          }
        }
      ]
    },
    {
      "cell_type": "code",
      "metadata": {
        "id": "hxL11PdW1tyB",
        "colab_type": "code",
        "colab": {
          "base_uri": "https://localhost:8080/",
          "height": 298
        },
        "outputId": "3f8edd26-3a5a-45bd-dd9e-4aaf0b847465"
      },
      "source": [
        "s_plot = S0Sj_plot(1, 2, 1000)\n",
        "plt.title(\"T = 1, N = 1000\")\n",
        "plt.plot(s_plot, '.')"
      ],
      "execution_count": 127,
      "outputs": [
        {
          "output_type": "execute_result",
          "data": {
            "text/plain": [
              "[<matplotlib.lines.Line2D at 0x7feda00ad9b0>]"
            ]
          },
          "metadata": {
            "tags": []
          },
          "execution_count": 127
        },
        {
          "output_type": "display_data",
          "data": {
            "image/png": "[encoded data removed]",
            "text/plain": [
              "<Figure size 432x288 with 1 Axes>"
            ]
          },
          "metadata": {
            "tags": [],
            "needs_background": "light"
          }
        }
      ]
    },
    {
      "cell_type": "code",
      "metadata": {
        "id": "yuS0fmhy1yYZ",
        "colab_type": "code",
        "colab": {
          "base_uri": "https://localhost:8080/",
          "height": 298
        },
        "outputId": "04f476ee-63da-42d9-a5ad-a215c2c2e494"
      },
      "source": [
        "s_plot = S0Sj_plot(1, 2, 10000)\n",
        "plt.title(\"T = 1, N = 5000\")\n",
        "plt.plot(s_plot, '.')"
      ],
      "execution_count": 134,
      "outputs": [
        {
          "output_type": "execute_result",
          "data": {
            "text/plain": [
              "[<matplotlib.lines.Line2D at 0x7feda0bd2cc0>]"
            ]
          },
          "metadata": {
            "tags": []
          },
          "execution_count": 134
        },
        {
          "output_type": "display_data",
          "data": {
            "image/png": "[encoded data removed]",
            "text/plain": [
              "<Figure size 432x288 with 1 Axes>"
            ]
          },
          "metadata": {
            "tags": [],
            "needs_background": "light"
          }
        }
      ]
    },
    {
      "cell_type": "code",
      "metadata": {
        "id": "OZ1zIfrL11JF",
        "colab_type": "code",
        "colab": {
          "base_uri": "https://localhost:8080/",
          "height": 298
        },
        "outputId": "7ef1072d-70aa-42e6-8a00-8c3d9954bda8"
      },
      "source": [
        "s_plot = S0Sj_plot(1, 2, 100000)\n",
        "plt.title(\"T = 1, N = 100000\")\n",
        "plt.plot(s_plot, '.')"
      ],
      "execution_count": 133,
      "outputs": [
        {
          "output_type": "execute_result",
          "data": {
            "text/plain": [
              "[<matplotlib.lines.Line2D at 0x7fed9fe662e8>]"
            ]
          },
          "metadata": {
            "tags": []
          },
          "execution_count": 133
        },
        {
          "output_type": "display_data",
          "data": {
            "image/png": "[encoded data removed]",
            "text/plain": [
              "<Figure size 432x288 with 1 Axes>"
            ]
          },
          "metadata": {
            "tags": [],
            "needs_background": "light"
          }
        }
      ]
    }
  ]
}